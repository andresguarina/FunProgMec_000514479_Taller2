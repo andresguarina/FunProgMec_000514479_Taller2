{
 "cells": [
  {
   "cell_type": "markdown",
   "metadata": {
    "colab_type": "text",
    "id": "view-in-github"
   },
   "source": [
    "<a href=\"https://colab.research.google.com/github/andresguarina/FunProgMecRepos202310/blob/main/Solucion_Taller2.ipynb\" target=\"_parent\"><img src=\"https://colab.research.google.com/assets/colab-badge.svg\" alt=\"Open In Colab\"/></a>"
   ]
  },
  {
   "cell_type": "markdown",
   "metadata": {
    "id": "D_nvt8wpmPTO"
   },
   "source": [
    "## Taller 2\n",
    "## Fundamento de programación - ingeniería mecánica 000514479\n",
    "> Estudiante: Andres Guarin\n",
    "\n",
    "> ID: 000514479\n",
    "\n",
    "> Email: andres.guarina@upb.edu.co"
   ]
  },
  {
   "cell_type": "markdown",
   "metadata": {},
   "source": [
    "# Problema 1\n",
    "### Calcular y mostrar la posición de una partícula que experimenta movimiento uniformemente acelerado a partir de su posición inicial (𝑥0), velocidad inicial (𝑣0) y aceleración (𝑎) en dos instantes de tiempo diferentes. "
   ]
  },
  {
   "cell_type": "code",
   "execution_count": 15,
   "metadata": {},
   "outputs": [
    {
     "name": "stdout",
     "output_type": "stream",
     "text": [
      "3.0\n",
      "103.0\n"
     ]
    }
   ],
   "source": [
    "# tiempo \n",
    "\n",
    "t_1 = 0\n",
    "\n",
    "t_2 = 5\n",
    "\n",
    "# posición inicial\n",
    "\n",
    "x_0 = 3\n",
    "\n",
    "# velocidad inicial\n",
    "\n",
    "v_0 = 5\n",
    "\n",
    "# aceleración\n",
    "\n",
    "a = 6\n",
    "\n",
    "c = 1/2\n",
    "\n",
    "x_1 = x_0 + v_0*t_1 + c*a*t_1**2\n",
    "print(x_1)\n",
    "\n",
    "x_2 = x_0 + v_0*t_2 + c*a*t_2**2\n",
    "print(x_2)\n"
   ]
  },
  {
   "cell_type": "markdown",
   "metadata": {},
   "source": [
    "# Problema 2 \n",
    "### Calcular y mostrar la distancia entre dos puntos 𝑃1 y 𝑃2 ubicados en las coordenadas (𝑥1, 𝑦1) y (𝑥2, 𝑦2).\n"
   ]
  },
  {
   "cell_type": "code",
   "execution_count": 18,
   "metadata": {},
   "outputs": [
    {
     "name": "stdout",
     "output_type": "stream",
     "text": [
      "50.0\n",
      "40.728804387837414\n"
     ]
    }
   ],
   "source": [
    "# distancia 1\n",
    "x_1 = 2\n",
    "x_2 = -5 \n",
    "y_1 = 3\n",
    "y_2 = 4\n",
    "\n",
    "d_1 = (x_2 - x_1)**2 + (y_2 - y_1)**2 ** 0.5\n",
    "print(d_1)\n",
    "\n",
    "# distancia 2\n",
    "\n",
    "x_1 = 0\n",
    "x_2 = 6 \n",
    "y_1 = -2\n",
    "y_2 = 1\n",
    "\n",
    "d_2 = (x_2 - x_1)**2 + (y_2 - y_1)**2 ** 0.5\n",
    "print(d_2)\n",
    "\n",
    "\n"
   ]
  },
  {
   "cell_type": "markdown",
   "metadata": {},
   "source": [
    "# Problema 3"
   ]
  },
  {
   "cell_type": "code",
   "execution_count": 35,
   "metadata": {},
   "outputs": [
    {
     "name": "stdout",
     "output_type": "stream",
     "text": [
      "False\n",
      "True\n",
      "False\n",
      "True\n",
      "True\n",
      "False\n",
      "True\n",
      "True\n",
      "False\n",
      "False\n"
     ]
    }
   ],
   "source": [
    "A = 5\n",
    "B = 2\n",
    "C = 3 \n",
    "D = -2\n",
    "\n",
    "print(A < B)\n",
    "\n",
    "print(B <= C)\n",
    "\n",
    "print((A == B) and (B > C))\n",
    "                   \n",
    "print((A < C) or (B < C))\n",
    "\n",
    "print(C != B)\n",
    "\n",
    "print((A + D) < C)\n",
    "      \n",
    "print((D - C) >= (-A * B))\n",
    "\n",
    "print(((D * C)== 5) or ((C * A)> 9))\n",
    "\n",
    "print((A * B + C)> (- D * 10))\n",
    "\n",
    "print((4 * B) == (C * 3))"
   ]
  },
  {
   "cell_type": "code",
   "execution_count": null,
   "metadata": {},
   "outputs": [],
   "source": []
  }
 ],
 "metadata": {
  "colab": {
   "authorship_tag": "ABX9TyO/2dzQXn4ff3UaZGUtopbw",
   "include_colab_link": true,
   "provenance": []
  },
  "kernelspec": {
   "display_name": "Python 3 (ipykernel)",
   "language": "python",
   "name": "python3"
  },
  "language_info": {
   "codemirror_mode": {
    "name": "ipython",
    "version": 3
   },
   "file_extension": ".py",
   "mimetype": "text/x-python",
   "name": "python",
   "nbconvert_exporter": "python",
   "pygments_lexer": "ipython3",
   "version": "3.11.2"
  }
 },
 "nbformat": 4,
 "nbformat_minor": 1
}
